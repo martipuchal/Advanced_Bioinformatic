{
 "cells": [
  {
   "cell_type": "code",
   "execution_count": 1,
   "id": "328f9519",
   "metadata": {},
   "outputs": [],
   "source": [
    "import pandas"
   ]
  },
  {
   "cell_type": "code",
   "execution_count": 82,
   "id": "48162ce6",
   "metadata": {},
   "outputs": [],
   "source": [
    "#Open the file with the names of the samples.\n",
    "mf_name = '/home/marti/jupy/jup_notebook/Project/Data/gdc_manifest.2023-09-19.txt'\n",
    "data = pandas.read_csv(mf_name, delimiter='\\t')\n",
    "#data=data[:50] #Capeador"
   ]
  },
  {
   "cell_type": "code",
   "execution_count": 83,
   "id": "d9a42032",
   "metadata": {},
   "outputs": [
    {
     "name": "stdout",
     "output_type": "stream",
     "text": [
      "Tot ok\n"
     ]
    }
   ],
   "source": [
    "#Obrir el fitxer de resultats.\n",
    "try:\n",
    "    result_file_name = '/home/marti/jupy/jup_notebook/Project/result/gene_names.txt' #dicc\n",
    "    result_file = open(result_file_name, 'w') # dicc\n",
    "    print('Tot ok')\n",
    "except:\n",
    "    print('No sha obert el fixer')\n"
   ]
  },
  {
   "cell_type": "code",
   "execution_count": 84,
   "id": "39e2f620",
   "metadata": {},
   "outputs": [
    {
     "name": "stdout",
     "output_type": "stream",
     "text": [
      "Tot okay\n"
     ]
    }
   ],
   "source": [
    "#Creation of the DataFrame of the samples.\n",
    "df = pandas.DataFrame()\n",
    "count=0\n",
    "for _, row in data.iterrows():\n",
    "    count+=1\n",
    "    file_id = str(row[1])\n",
    "    file_id = '/home/marti/jupy/jup_notebook/Project/Data/' + file_id\n",
    "    data_sample = pandas.read_csv(file_id, delimiter='\\t', skiprows=1)\n",
    "    patient = ('patient'+str(count))\n",
    "    if count>1:\n",
    "        df2 = pandas.DataFrame()\n",
    "        df2[patient] = data_sample['tpm_unstranded']\n",
    "        df=pandas.concat([df,df2],axis=1) \n",
    "    else:\n",
    "        df2 = pandas.DataFrame()\n",
    "        df['gene_id']= data_sample['gene_id']\n",
    "        df2[patient] = data_sample['tpm_unstranded']\n",
    "        df=pandas.concat([df,df2],axis=1) \n",
    "print('Tot okay')      "
   ]
  },
  {
   "cell_type": "code",
   "execution_count": 85,
   "id": "80f09c29",
   "metadata": {},
   "outputs": [],
   "source": [
    "df.set_index('gene_id', inplace=True)"
   ]
  },
  {
   "cell_type": "code",
   "execution_count": 86,
   "id": "861e9845",
   "metadata": {},
   "outputs": [],
   "source": [
    "df.to_csv('../result/data.csv', index=True, sep='\\t')"
   ]
  }
 ],
 "metadata": {
  "kernelspec": {
   "display_name": "Python 3 (ipykernel)",
   "language": "python",
   "name": "python3"
  },
  "language_info": {
   "codemirror_mode": {
    "name": "ipython",
    "version": 3
   },
   "file_extension": ".py",
   "mimetype": "text/x-python",
   "name": "python",
   "nbconvert_exporter": "python",
   "pygments_lexer": "ipython3",
   "version": "3.11.5"
  }
 },
 "nbformat": 4,
 "nbformat_minor": 5
}
